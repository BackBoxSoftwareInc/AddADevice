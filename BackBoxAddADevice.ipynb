{
 "cells": [
  {
   "cell_type": "markdown",
   "id": "088f6733",
   "metadata": {},
   "source": [
    "### Need to import a few tools/libraries to get started with our task"
   ]
  },
  {
   "cell_type": "code",
   "execution_count": null,
   "id": "792da617",
   "metadata": {},
   "outputs": [],
   "source": [
    "import requests\n",
    "import http\n",
    "import json\n",
    "import csv\n",
    "import configparser\n",
    "import requests\n",
    "from urllib3.exceptions import InsecureRequestWarning\n",
    "\n",
    "config = configparser.ConfigParser()\n",
    "# Suppress only the single warning from urllib3 needed.\n",
    "requests.packages.urllib3.disable_warnings(category=InsecureRequestWarning)\n",
    "print(\"Import Success\")"
   ]
  },
  {
   "cell_type": "code",
   "execution_count": null,
   "id": "7c5445d3",
   "metadata": {},
   "outputs": [],
   "source": [
    "config.read(\"./BackBoxConfig.ini\")\n",
    "BACKBOXIP = config[\"BACKBOX\"][\"BACKBOXIP\"] #\"192.168.xxx.xxx\"\n",
    "BACKBOXUSER = config[\"BACKBOX\"][\"BACKBOXUSER\"]   #'username'\n",
    "BACKBOXUSERPASS = config[\"BACKBOX\"][\"BACKBOXUSERPASS\"]    #'password'"
   ]
  },
  {
   "cell_type": "markdown",
   "id": "199a001b",
   "metadata": {},
   "source": [
    "### To begin we need to get all of the needed data to run our script together. "
   ]
  },
  {
   "cell_type": "code",
   "execution_count": null,
   "id": "7be12264",
   "metadata": {},
   "outputs": [],
   "source": [
    "#information needed to reach out to backbox API\n",
    "BackBoxBaseURL = \"https://\" + BACKBOXIP #example 192.168.1.2\n",
    "BackBoxUser = BACKBOXUSER #enter your user name for BackBox\n",
    "BackBoxPassword = BACKBOXUSERPASS #enter your user Password for BackBox\n",
    "externalApiURL = BackBoxBaseURL + '/rest/data/api/'\n",
    "internalApiURL = BackBoxBaseURL + '/rest/data/'\n",
    "\n",
    "#custom information about files and jobs we will use\n",
    "devices_to_upgrade_file = './Devices_to_add.csv' #Path to a CSV with just external IDs in the first column\n"
   ]
  },
  {
   "cell_type": "markdown",
   "id": "6f60a8d0",
   "metadata": {},
   "source": [
    "### Here we will import out list of Device IDs from a CSV. These could come from anywhere in reality, this could be from your Device Database API or just from a CSV as in this example. Key here is that we get some sort of datastructure that will help us identify devices we want to operate on."
   ]
  },
  {
   "cell_type": "code",
   "execution_count": null,
   "id": "cb8ff1e4",
   "metadata": {},
   "outputs": [],
   "source": [
    "key = ''\n",
    "devicesToAdd = []\n",
    "with open(devices_to_upgrade_file, mode='r', newline='', encoding='utf-8-sig') as csvfile:\n",
    "    reader = csv.reader(csvfile, delimiter = ' ', quotechar='|')\n",
    "    first = True\n",
    "    for item in reader:\n",
    "        fields = item[0].split(\",\")\n",
    "        if first:\n",
    "            keys = fields\n",
    "            first = False\n",
    "        else:\n",
    "            devicesToAdd += [dict(zip(keys,fields))]\n",
    "\n",
    "print(devicesToAdd)\n"
   ]
  },
  {
   "cell_type": "code",
   "execution_count": null,
   "id": "9b49e99f",
   "metadata": {},
   "outputs": [],
   "source": [
    "session = requests.Session()"
   ]
  },
  {
   "cell_type": "markdown",
   "id": "32c4b278",
   "metadata": {},
   "source": [
    "### Let's go get a connection to our backbox server. One way to authenticate here is to get our cookies and use them to maintain our session"
   ]
  },
  {
   "cell_type": "code",
   "execution_count": null,
   "id": "568ddf9b",
   "metadata": {},
   "outputs": [],
   "source": [
    "#reach out to BackBox and get the login page\n",
    "response = session.get(BackBoxBaseURL, verify=False)"
   ]
  },
  {
   "cell_type": "markdown",
   "id": "cdce65a2",
   "metadata": {},
   "source": [
    "### Now that we have our session cookies we can send username and password to login"
   ]
  },
  {
   "cell_type": "code",
   "execution_count": null,
   "id": "c94ab2a4",
   "metadata": {},
   "outputs": [],
   "source": [
    "headers = {\n",
    "    'Content-Type': 'application/x-www-form-urlencoded; charset=utf-8',\n",
    "}\n",
    "\n",
    "data = {\n",
    "    'j_username': BackBoxUser,\n",
    "    'j_password': BackBoxPassword,\n",
    "}\n",
    "\n",
    "response = session.post(BackBoxBaseURL+'/j_security_check', cookies=response.cookies, headers=headers, data=data, verify=False)"
   ]
  },
  {
   "attachments": {},
   "cell_type": "markdown",
   "id": "5a9cee38",
   "metadata": {},
   "source": [
    "### After logging in adding a device requires Name, IP, and (Vendor, Product, Version, Option) ids. An external ID helps us sync with systems outside BackBox. We had all these in our CSV file.\n",
    "### We can get these Vendor, Product, Version and Option ID's by searching at https://support.backbox.com/s/device-lookup "
   ]
  },
  {
   "cell_type": "code",
   "execution_count": null,
   "id": "9fd17fde",
   "metadata": {},
   "outputs": [],
   "source": [
    "for device in devicesToAdd:\n",
    "    headers ={'Content-Type': 'application/json', \"Accept\": \"*/*\"}\n",
    "    data ={\n",
    "        \"userName\":device['USER_NAME'],\n",
    "        \"password\":device['PASSWORD'],\n",
    "        \"deviceName\": device['DEVICE_NAME'],\n",
    "        \"serverIP\": device['IP_ADDRESS'],\n",
    "        \"vendorId\":device['VENDOR_ID'],\n",
    "        \"productId\":device['PRODUCT_ID'],\n",
    "        \"versionId\":device['VERSION_ID'],\n",
    "        \"optionId\": device['OPTION_ID'],\n",
    "        \"externalId\": device['EXTERNAL_ID']\n",
    "    }\n",
    "    deviceAdded = session.post(externalApiURL +'device', cookies=response.cookies, headers=headers, json=data, verify=False)\n",
    "    if deviceAdded.ok:\n",
    "        print(deviceAdded.json())\n",
    "    else:\n",
    "        print(deviceAdded.reason)"
   ]
  },
  {
   "cell_type": "code",
   "execution_count": null,
   "id": "bbd7e963",
   "metadata": {},
   "outputs": [],
   "source": [
    "deviceAdded.text"
   ]
  },
  {
   "cell_type": "code",
   "execution_count": null,
   "id": "8f3aade3",
   "metadata": {},
   "outputs": [],
   "source": [
    "session.close()"
   ]
  }
 ],
 "metadata": {
  "kernelspec": {
   "display_name": "base",
   "language": "python",
   "name": "python3"
  },
  "language_info": {
   "codemirror_mode": {
    "name": "ipython",
    "version": 3
   },
   "file_extension": ".py",
   "mimetype": "text/x-python",
   "name": "python",
   "nbconvert_exporter": "python",
   "pygments_lexer": "ipython3",
   "version": "3.9.13"
  },
  "vscode": {
   "interpreter": {
    "hash": "1b9410f99aeb2d5d8f6d9370bd2eb88c3ccd938dfce9cbd60fdda6f796cc9039"
   }
  }
 },
 "nbformat": 4,
 "nbformat_minor": 5
}
